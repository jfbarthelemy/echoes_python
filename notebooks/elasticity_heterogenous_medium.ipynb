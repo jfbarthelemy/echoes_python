{
 "cells": [
  {
   "cell_type": "markdown",
   "id": "21a27244-2e25-4b63-8e12-1b46de553e0a",
   "metadata": {},
   "source": [
    "$\\newcommand{\\uu}[1]{{\\mathbf{\\boldsymbol{{#1}}}}}$\n",
    "$\\newcommand{\\uuuu}[1]{{\\mathbb{{#1}}}}$\n",
    "$\\newcommand{\\uv}[1]{{\\underline{{#1}}}}$\n",
    "$\\newcommand{\\trans}[1]{{{}^{t}{#1}}}$\n",
    "$\\newcommand{\\x}{\\uv{x}}$"
   ]
  },
  {
   "cell_type": "markdown",
   "id": "9849fdf9-4ee0-4c70-b267-fa71b260b824",
   "metadata": {
    "citation-manager": {
     "citations": {
      "6m8yv": [
       {
        "id": "13263233/PER98KVR",
        "source": "zotero"
       }
      ],
      "bl2p8": [
       {
        "id": "13263233/LK8LHU92",
        "source": "zotero"
       }
      ],
      "ge54b": [
       {
        "id": "13263233/2R83Z8LA",
        "source": "zotero"
       }
      ],
      "j3dyq": [
       {
        "id": "13263233/UBQHT3SL",
        "source": "zotero"
       }
      ]
     }
    },
    "tags": []
   },
   "source": [
    "# Homogenization of an elastic heterogeneous medium\n",
    "\n",
    "This notebook does not aim at providing an exhaustive presentation of the theory of random medium homogeneization (see <cite id=\"6m8yv\"><a href=\"#zotero%7C13263233%2FPER98KVR\">(Milton, 2002)</a></cite>, <cite id=\"j3dyq\"><a href=\"#zotero%7C13263233%2FUBQHT3SL\">(Torquato, 2002)</a></cite>, <cite id=\"ge54b\"><a href=\"#zotero%7C13263233%2F2R83Z8LA\">(Kachanov and Sevostianov, 2018)</a></cite> among others) but it aims rather at recalling some of the basic notations and results related to the implementation of the *Echoes* library. In particular the fundamental equations posed on a representative volume element (RVE) such as balance law, constitutive law, strain or stress homogeneous boundary conditions <cite id=\"bl2p8\"><a href=\"#zotero%7C13263233%2FLK8LHU92\">(Zaoui, 2002)</a></cite> are supposedly known."
   ]
  },
  {
   "cell_type": "markdown",
   "id": "01320c22-b04d-4fa7-a79c-8ba03db98a0d",
   "metadata": {},
   "source": [
    "## Elastic stiffness of a heterogeneous medium\n",
    "\n",
    "Consider a representative volume element (RVE) composed of $N+1$ homogeneous elastic phases. The RVE domain is then a partition of all the phases $\\Omega=\\bigcup_{i=0}^N\\Omega_i$ $(0\\leq i\\leq N)$. The elastic stiffness and compliance of the $i^\\textrm{th}$ phase are respectively denoted by $\\uuuu{C}_i$ and $\\uuuu{S}_i=\\uuuu{C}_i^{-1}$ and $\\uuuu{C}$ and $\\uuuu{S}$ denote the corresponding variable fields within the RVE. The spatial average over a domain $\\omega$ is denoted by $<\\bullet>_\\omega$."
   ]
  },
  {
   "cell_type": "markdown",
   "id": "49d65f8e-415a-4ce7-936b-843f3cb0884b",
   "metadata": {
    "citation-manager": {
     "citations": {
      "lh96t": [
       {
        "id": "13263233/LK8LHU92",
        "source": "zotero"
       }
      ]
     }
    },
    "tags": []
   },
   "source": [
    "### Macroscopic stiffness or compliance tensors\n",
    "\n",
    "Whatever the boundary condition of homogeneous strain or stress type (see <cite id=\"lh96t\"><a href=\"#zotero%7C13263233%2FLK8LHU92\">(Zaoui, 2002)</a></cite>), the linearity of the problem allows to invoke the existence of concentration tensors relating the microscopic strain $\\uu{\\varepsilon}$ and stress $\\uu{\\sigma}$ fields to the macroscopic strain $\\uu{E}$ or stress $\\uu{\\Sigma}$ tensors\n",
    "<a id=\"eq-eE\"></a><a id=\"eq-sE\"></a><a id=\"eq-eS\"></a><a id=\"eq-sS\"></a>\n",
    "\\begin{align}\n",
    "\\uu{\\varepsilon} & = & \\uuuu{A}_E:\\uu{E} \\tag{eE}\\\\\n",
    "\\uu{\\sigma} & = & \\uuuu{B}_E:\\uu{E} \\quad\\textrm{with}\\quad \\uuuu{B}_E=\\uuuu{C}:\\uuuu{A}_E \\tag{sE}\\\\\n",
    "\\uu{\\sigma} & = & \\uuuu{B}_\\Sigma:\\uu{\\Sigma} \\tag{sS}\\\\\n",
    "\\uu{\\varepsilon} & = & \\uuuu{A}_\\Sigma:\\uu{\\Sigma} \\quad\\textrm{with}\\quad \\uuuu{A}_\\Sigma=\\uuuu{S}:\\uuuu{B}_\\Sigma \\tag{eS}\n",
    "\\end{align}\n",
    "\n",
    "Injecting the adequate concentration rule in the constitutive laws written in terms of stiffness or compliance tensors leads to the expression of the macroscopic stiffness or compliance\n",
    "<a id=\"eq-macro\"></a>\n",
    "\\begin{equation}\n",
    "\\tag{macro}\n",
    "\\uuuu{C}^\\textrm{hom} = <\\uuuu{C:\\uuuu{A}_E}>_\\Omega \\quad\\textrm{or}\\quad \\uuuu{S}^\\textrm{hom} = <\\uuuu{S:\\uuuu{B}_\\Sigma}>_\\Omega\n",
    "\\end{equation}s\n",
    "which can be decomposed over the phases as\n",
    "<a id=\"eq-macrodec\"></a>\n",
    "\\begin{equation}\n",
    "\\tag{macrodec}\n",
    "\\uuuu{C}^\\textrm{hom} = \\sum_{i=0}^N f_i \\uuuu{C}_i:<\\uuuu{A}_E>_{\\Omega_i} \\quad\\textrm{or}\\quad \\uuuu{S}^\\textrm{hom} = \\sum_{i=0}^N f_i \\uuuu{S}_i:<\\uuuu{B}_\\Sigma>_{\\Omega_i}\n",
    "\\end{equation}\n",
    "where $f_i$ is the volume fraction of the $i^\\textrm{th}$ phase. The macroscopic behavior relies then on the knowledge of the averages $\\uuuu{A}_i=<\\uuuu{A}_E>_{\\Omega_i}$ or $\\uuuu{B}_i=<\\uuuu{B}_\\Sigma>_{\\Omega_i}$."
   ]
  },
  {
   "cell_type": "markdown",
   "id": "62a7a5f7-017e-4190-9ccc-01dc00cef01d",
   "metadata": {
    "citation-manager": {
     "citations": {
      "0psze": [
       {
        "id": "13263233/7SLQVYIR",
        "source": "zotero"
       }
      ],
      "m0kx2": [
       {
        "id": "13263233/2R83Z8LA",
        "source": "zotero"
       }
      ]
     }
    },
    "tags": []
   },
   "source": [
    "### Approach by contribution tensors\n",
    "\n",
    "This alternative equivalent approach to the derivation of macroscopic elastic properties postulates that one phase, say that indexed by $0$ by convenience, plays the particular role of matrix.\n",
    "\n",
    "It is based on an equivalent polarization field in each phase as introduced in <cite id=\"0psze\"><a href=\"#zotero%7C13263233%2F7SLQVYIR\">(Eshelby, 1957)</a></cite> to relate the inclusion and inhomogeneity problems. Indeed, the constitutive law can be rewritten\n",
    "<a id=\"eq-polarization\"></a>\n",
    "\\begin{equation}\n",
    "\\tag{polarization}\n",
    "\\uu{\\sigma}=\\uuuu{C}_0:\\uu{\\varepsilon}+\\uu{p}\\quad\\textrm{with}\\quad \\uu{p}=\\left(\\uuuu{C}-\\uuuu{C}_0\\right):\\uu{\\varepsilon}=\\delta\\uuuu{C}:\\uu{\\varepsilon}\n",
    "\\end{equation}\n",
    "where $\\uu{p}$ is a polarization tensor field consistently related to the strain field by the actual constitutive law.\n",
    "A corresponding expression can be obtained in terms of compliances by introducing a fictitious eigenstrain field $\\uu{\\eta}$\n",
    "<a id=\"eq-eigenstrain\"></a>\n",
    "\\begin{equation}\n",
    "\\tag{eigenstrain}\n",
    "\\uu{\\varepsilon}=\\uuuu{S}_0:\\uu{\\sigma}+\\uu{\\eta}\\quad\\textrm{with}\\quad \\uu{\\eta}=\\left(\\uuuu{S}-\\uuuu{S}_0\\right):\\uu{\\sigma}=\\delta\\uuuu{S}:\\uu{\\sigma}\n",
    "\\end{equation}\n",
    "\n",
    "The macrosocopic behavior is then built from the following expressions of the macroscopic stress\n",
    "<a id=\"eq-macrostress\"></a>\n",
    "\\begin{equation}\n",
    "\\tag{macrostress}\n",
    "\\uu{\\Sigma}=<\\uu{\\sigma}>_{\\Omega}=\\uuuu{C}_0:\\uu{E}+\\sum_{i=1}^N f_i<\\uu{p}>_{\\Omega_i}\n",
    "\\end{equation}\n",
    "or strain\n",
    "<a id=\"eq-macrostrain\"></a>\n",
    "\\begin{equation}\n",
    "\\tag{macrostrain}\n",
    "\\uu{E}=<\\uu{\\varepsilon}>_{\\Omega}=\\uuuu{S}_0:\\uu{\\Sigma}+\\sum_{i=1}^N f_i<\\uu{\\eta}>_{\\Omega_i}\n",
    "\\end{equation}\n",
    "\n",
    "In these formulations, it is convenient to invoke once again the linearity of the problem to introduce the so-called stiffness $\\uuuu{N}$ and compliance $\\uuuu{H}$ contribution tensors <cite id=\"m0kx2\"><a href=\"#zotero%7C13263233%2F2R83Z8LA\">(Kachanov and Sevostianov, 2018)</a></cite>\n",
    "<a id=\"eq-N\"></a><a id=\"eq-H\"></a>\n",
    "\\begin{align}\n",
    "\\uu{p} & = & \\uuuu{N}:\\uu{E} \\tag{N}\\\\\n",
    "\\uu{\\eta} & = & \\uuuu{H}:\\uu{\\Sigma} \\tag{H}\n",
    "\\end{align}\n",
    "so that\n",
    "<a id=\"eq-macrocontrib\"></a>\n",
    "\\begin{equation}\n",
    "\\tag{macrocontrib}\n",
    "\\uuuu{C}^\\textrm{hom} = \\uuuu{C}_0 + \\sum_{i=1}^N f_i \\uuuu{N}_i \\;\\textrm{ with } \\uuuu{N}_i=<\\uuuu{N}>_{\\Omega_i} \\quad\\textrm{or}\\quad \\uuuu{S}^\\textrm{hom} = \\uuuu{S}_0 + \\sum_{i=1}^N f_i \\uuuu{H}_i \\;\\textrm{ with } \\uuuu{H}_i=<\\uuuu{H}>_{\\Omega_i}\n",
    "\\end{equation}"
   ]
  },
  {
   "cell_type": "markdown",
   "id": "9dadf0de-5b80-438e-8d2f-22221036ddef",
   "metadata": {
    "citation-manager": {
     "citations": {
      "11wd2": [
       {
        "id": "13263233/7SLQVYIR",
        "source": "zotero"
       }
      ],
      "n6o4m": [
       {
        "id": "13263233/TZIGKQZK",
        "source": "zotero"
       }
      ],
      "okcyh": [
       {
        "id": "13263233/B3ADYJYB",
        "source": "zotero"
       }
      ],
      "q4ekp": [
       {
        "id": "13263233/9EGU3CWX",
        "source": "zotero"
       }
      ],
      "qc3wl": [
       {
        "id": "13263233/AVP6VC5I",
        "source": "zotero"
       }
      ],
      "utu8s": [
       {
        "id": "13263233/AA59PNNH",
        "source": "zotero"
       }
      ]
     }
    },
    "tags": []
   },
   "source": [
    "### Estimates by auxiliary problems\n",
    "\n",
    "The most classical homogenization schemes rely on estimates of concentration or contribution tensor averages built upon the solution of a single ellipsoidal inhomogeneity $\\mathcal{E}$ of stiffness $\\uuuu{C}_\\mathcal{E}$ (compliance $\\uuuu{S}_\\mathcal{E}=\\uuuu{C}_\\mathcal{E}^{-1}$) embedded in an infinite matrix of stiffness $\\uuuu{C}_0$ (compliance $\\uuuu{S}_0=\\uuuu{C}_0^{-1}$) subjected to a remote strain $\\uu{E}^\\infty$ or stress $\\uu{\\Sigma}^\\infty=\\uuuu{C}_0:\\uu{E}^\\infty$ <cite id=\"11wd2\"><a href=\"#zotero%7C13263233%2F7SLQVYIR\">(Eshelby, 1957)</a></cite>. In this problem, the strain and stress fields are uniform within the ellipsoid\n",
    "<a id=\"eq-aEsh\"></a>\n",
    "\\begin{equation}\n",
    "\\tag{aEsh}\n",
    "\\uu{\\varepsilon}_{|\\mathcal{E}}=\\uuuu{a}:\\uu{E}^\\infty \\quad\\textrm{with}\\quad \\uuuu{a}=\\left[\\uuuu{I}+\\uuuu{P}:(\\uuuu{C}_\\mathcal{E}-\\uuuu{C}_0)\\right]^{-1}\n",
    "\\end{equation}\n",
    "where $\\uuuu{P}$ is called the first Hill \n",
    "tensor depending only on the shape and orientation of the ellipsoid and on the matrix stiffness (i.e. it does not depend on the scale of the ellipsoid nor its stiffness). In some cases of anisotropy of the matrix, analytical expressions are available (see a review in <cite id=\"q4ekp\"><a href=\"#zotero%7C13263233%2F9EGU3CWX\">(Parnell, 2016)</a></cite>) otherwise $\\uuuu{P}$ can be obtained by cubature of an integral over the unit sphere (<cite id=\"utu8s\"><a href=\"#zotero%7C13263233%2FAA59PNNH\">(Ghahremani, 1977)</a></cite>, <cite id=\"n6o4m\"><a href=\"#zotero%7C13263233%2FTZIGKQZK\">(Mura, 1987)</a></cite>, <cite id=\"okcyh\"><a href=\"#zotero%7C13263233%2FB3ADYJYB\">(Gavazzi and Lagoudas, 1990)</a></cite>, <cite id=\"qc3wl\"><a href=\"#zotero%7C13263233%2FAVP6VC5I\">(Barthélémy, 2020)</a></cite>).\n",
    "\n",
    "After simple algebra, the stress concentration rule is obtained\n",
    "<a id=\"eq-bEsh\"></a>\n",
    "\\begin{equation}\n",
    "\\tag{bEsh}\n",
    "\\uu{\\sigma}_{|\\mathcal{E}}=\\uuuu{b}:\\uu{\\Sigma}^\\infty \\quad\\textrm{with}\\quad \\uuuu{b}=\\left[\\uuuu{I}+\\uuuu{Q}:(\\uuuu{S}_\\mathcal{E}-\\uuuu{S}_0)\\right]^{-1}\n",
    "\\end{equation}\n",
    "where $\\uuuu{Q}$ is the second Hill polarization tensor defined as\n",
    "<a id=\"eq-Q\"></a>\n",
    "\\begin{equation}\n",
    "\\tag{Q}\n",
    "\\uuuu{Q}=\\uuuu{C}_0-\\uuuu{C}_0:\\uuuu{P}:\\uuuu{C}_0\n",
    "\\end{equation}\n",
    "\n",
    "Moreover the contribution tensors are also deduced\n",
    "<a id=\"eq-nEsh\"></a>\n",
    "\\begin{equation}\n",
    "\\tag{nEsh}\n",
    "\\uu{p}_{|\\mathcal{E}}=(\\uuuu{C}_\\mathcal{E}-\\uuuu{C}_0):\\uu{\\varepsilon}_{|\\mathcal{E}}=\\uuuu{n}:\\uu{E}^\\infty \\quad\\textrm{with}\\quad \\uuuu{n}=\\left[\\uuuu{P}+(\\uuuu{C}_\\mathcal{E}-\\uuuu{C}_0)^{-1}\\right]^{-1}\n",
    "\\end{equation}\n",
    "and\n",
    "<a id=\"eq-hEsh\"></a>\n",
    "\\begin{equation}\n",
    "\\tag{hEsh}\n",
    "\\uu{\\eta}_{|\\mathcal{E}}=(\\uuuu{S}_\\mathcal{E}-\\uuuu{S}_0):\\uu{\\sigma}_{|\\mathcal{E}}=\\uuuu{h}:\\uu{\\Sigma}^\\infty \\quad\\textrm{with}\\quad \\uuuu{h}=\\left[\\uuuu{Q}+(\\uuuu{S}_\\mathcal{E}-\\uuuu{S}_0)^{-1}\\right]^{-1}\n",
    "\\end{equation}"
   ]
  },
  {
   "cell_type": "markdown",
   "id": "95b8385f-83d9-4c7e-b9d5-a03d66792d80",
   "metadata": {},
   "source": [
    "### Case of cracks\n",
    "\n"
   ]
  },
  {
   "cell_type": "markdown",
   "id": "f6e1c41e-cea4-4faf-a465-f8859cc30c3e",
   "metadata": {},
   "source": [
    "### Case of morphological representative patterns (MRP)\n",
    "\n"
   ]
  },
  {
   "cell_type": "markdown",
   "id": "4b534c75-6bb7-4037-b36a-b7d3e90fdc71",
   "metadata": {
    "citation-manager": {
     "citations": {
      "t4lrq": [
       {
        "id": "13263233/2R83Z8LA",
        "source": "zotero"
       }
      ]
     }
    },
    "tags": []
   },
   "source": [
    "### Dilute schemes\n",
    "\n",
    "#### Approach in strain\n",
    "This scheme is called `DIL` in *Echoes*\n",
    "\n",
    "\n",
    "#### Approach in stress (Non Interaction Approximation in <cite id=\"t4lrq\"><a href=\"#zotero%7C13263233%2F2R83Z8LA\">(Kachanov and Sevostianov, 2018)</a></cite>)\n",
    "This scheme is called `DILS` in *Echoes*\n",
    "\n",
    "\n"
   ]
  },
  {
   "cell_type": "markdown",
   "id": "e0d237b7-048e-4a04-847b-381acde98685",
   "metadata": {
    "tags": []
   },
   "source": []
  },
  {
   "cell_type": "code",
   "execution_count": null,
   "id": "f65ab315-fd63-4c1b-9221-0b4b45961438",
   "metadata": {},
   "outputs": [],
   "source": []
  },
  {
   "cell_type": "code",
   "execution_count": null,
   "id": "d9327030-cfc6-45cf-9ab9-9cef15ec5370",
   "metadata": {},
   "outputs": [],
   "source": []
  },
  {
   "cell_type": "markdown",
   "id": "0e59d1d6-16d9-4d9b-be00-604ac39d2bb2",
   "metadata": {
    "tags": []
   },
   "source": [
    "## References\n",
    "\n",
    "<!-- BIBLIOGRAPHY START -->\n",
    "<div class=\"csl-bib-body\">\n",
    "  <div class=\"csl-entry\"><i id=\"zotero|13263233/AVP6VC5I\"></i>Barthélémy, J.-F., 2020. Simplified approach to the derivation of the relationship between Hill polarization tensors of transformed problems and applications. International Journal of Engineering Science 154, 103326.</div>\n",
    "  <div class=\"csl-entry\"><i id=\"zotero|13263233/7SLQVYIR\"></i>Eshelby, J.D., 1957. The determination of the elastic field of an ellipsoidal inclusion, and related problems. Proceedings of the Royal Society of London. Series A. Mathematical and Physical Sciences 241, 376–396.</div>\n",
    "  <div class=\"csl-entry\"><i id=\"zotero|13263233/B3ADYJYB\"></i>Gavazzi, A.C., Lagoudas, D.C., 1990. On the numerical evaluation of Eshelby’s tensor and its application to elastoplastic fibrous composites. Computational Mechanics 7, 13–19.</div>\n",
    "  <div class=\"csl-entry\"><i id=\"zotero|13263233/AA59PNNH\"></i>Ghahremani, F., 1977. Numerical evaluation of the stresses and strains in ellipsoidal inclusions in an anisotropic elastic material. Mechanics Research Communications 4, 89–91.</div>\n",
    "  <div class=\"csl-entry\"><i id=\"zotero|13263233/2R83Z8LA\"></i>Kachanov, M., Sevostianov, I., 2018. Micromechanics of Materials, with Applications, Solid Mechanics and Its Applications. Springer International Publishing, Cham.</div>\n",
    "  <div class=\"csl-entry\"><i id=\"zotero|13263233/PER98KVR\"></i>Milton, G.W., 2002. The Theory of Composites, Cambridge Monographs on Applied and Computational Mathematics. Cambridge University Press, Cambridge.</div>\n",
    "  <div class=\"csl-entry\"><i id=\"zotero|13263233/TZIGKQZK\"></i>Mura, T., 1987. Micromechanics of Defects in Solids, Second Edition. Kluwer Academic.</div>\n",
    "  <div class=\"csl-entry\"><i id=\"zotero|13263233/9EGU3CWX\"></i>Parnell, W.J., 2016. The Eshelby, Hill, Moment and Concentration Tensors for Ellipsoidal Inhomogeneities in the Newtonian Potential Problem and Linear Elastostatics. Journal of Elasticity 125, 231–294.</div>\n",
    "  <div class=\"csl-entry\"><i id=\"zotero|13263233/UBQHT3SL\"></i>Torquato, S., 2002. Random Heterogeneous Materials, Interdisciplinary Applied Mathematics. Springer New York, New York, NY.</div>\n",
    "  <div class=\"csl-entry\"><i id=\"zotero|13263233/LK8LHU92\"></i>Zaoui, A., 2002. Continuum Micromechanics: Survey. J. Eng. Mech. 128, 808–816.</div>\n",
    "</div>\n",
    "<!-- BIBLIOGRAPHY END -->"
   ]
  },
  {
   "cell_type": "code",
   "execution_count": null,
   "id": "8b6fe1b5-a5f2-43dc-9190-2ee8cbde4405",
   "metadata": {},
   "outputs": [],
   "source": []
  }
 ],
 "metadata": {
  "citation-manager": {
   "items": {
    "zotero": {
     "13263233/2R83Z8LA": {
      "ISBN": "978-3-319-76203-6 978-3-319-76204-3",
      "URL": "http://link.springer.com/10.1007/978-3-319-76204-3",
      "accessed": {
       "date-parts": [
        [
         2022,
         10,
         7
        ]
       ]
      },
      "author": [
       {
        "family": "Kachanov",
        "given": "Mark"
       },
       {
        "family": "Sevostianov",
        "given": "Igor"
       }
      ],
      "collection-title": "Solid Mechanics and Its Applications",
      "event-place": "Cham",
      "id": "13263233/2R83Z8LA",
      "issued": {
       "date-parts": [
        [
         2018
        ]
       ]
      },
      "language": "en",
      "note": "DOI: 10.1007/978-3-319-76204-3",
      "publisher": "Springer International Publishing",
      "publisher-place": "Cham",
      "system_id": "zotero|13263233/2R83Z8LA",
      "title": "Micromechanics of Materials, with Applications",
      "type": "book",
      "volume": "249"
     },
     "13263233/7SLQVYIR": {
      "DOI": "10.1098/rspa.1957.0133",
      "URL": "https://royalsocietypublishing.org/doi/10.1098/rspa.1957.0133",
      "abstract": "It is supposed that a region within an isotropic elastic solid undergoes a spontaneous change of form which, if the surrounding material were absent, would be some prescribed homogeneous deformation. Because of the presence of the surrounding material stresses will be present both inside and outside the region. The resulting elastic field may be found very simply with the help of a sequence of imaginary cutting, straining and welding operations. In particular, if the region is an ellipsoid the strain inside it is uniform and may be expressed in terms of tabu­lated elliptic integrals. In this case a further problem may be solved. An ellipsoidal region in an infinite medium has elastic constants different from those of the rest of the material; how does the presence of this inhomogeneity disturb an applied stress-field uniform at large distances? It is shown that to answer several questions of physical or engineering interest it is necessary to know only the relatively simple elastic field inside the ellipsoid.",
      "author": [
       {
        "family": "Eshelby",
        "given": "J D"
       }
      ],
      "container-title": "Proceedings of the Royal Society of London. Series A. Mathematical and Physical Sciences",
      "id": "13263233/7SLQVYIR",
      "issue": "1226",
      "issued": {
       "date-parts": [
        [
         1957
        ]
       ]
      },
      "page": "376–396",
      "system_id": "zotero|13263233/7SLQVYIR",
      "title": "The determination of the elastic field of an ellipsoidal inclusion, and related problems",
      "type": "article-journal",
      "volume": "241"
     },
     "13263233/9EGU3CWX": {
      "DOI": "10.1007/s10659-016-9573-6",
      "URL": "http://dx.doi.org/10.1007/s10659-016-9573-6 http://link.springer.com/10.1007/s10659-016-9573-6",
      "author": [
       {
        "family": "Parnell",
        "given": "William J"
       }
      ],
      "container-title": "Journal of Elasticity",
      "id": "13263233/9EGU3CWX",
      "issue": "2",
      "issued": {
       "date-parts": [
        [
         2016
        ]
       ]
      },
      "note": "Publisher: The Author(s)",
      "page": "231–294",
      "system_id": "zotero|13263233/9EGU3CWX",
      "title": "The Eshelby, Hill, Moment and Concentration Tensors for Ellipsoidal Inhomogeneities in the Newtonian Potential Problem and Linear Elastostatics",
      "type": "article-journal",
      "volume": "125"
     },
     "13263233/AA59PNNH": {
      "DOI": "10.1016/0093-6413(77)90018-0",
      "URL": "https://linkinghub.elsevier.com/retrieve/pii/0093641377900180",
      "author": [
       {
        "family": "Ghahremani",
        "given": "F"
       }
      ],
      "container-title": "Mechanics Research Communications",
      "id": "13263233/AA59PNNH",
      "issue": "2",
      "issued": {
       "date-parts": [
        [
         1977,
         1
        ]
       ]
      },
      "note": "tex.ids= ghahremani1977a",
      "page": "89–91",
      "system_id": "zotero|13263233/AA59PNNH",
      "title": "Numerical evaluation of the stresses and strains in ellipsoidal inclusions in an anisotropic elastic material",
      "type": "article-journal",
      "volume": "4"
     },
     "13263233/AVP6VC5I": {
      "DOI": "10.1016/j.ijengsci.2020.103326",
      "URL": "https://linkinghub.elsevier.com/retrieve/pii/S0020722520301142",
      "author": [
       {
        "family": "Barthélémy",
        "given": "J.-F."
       }
      ],
      "container-title": "International Journal of Engineering Science",
      "id": "13263233/AVP6VC5I",
      "issued": {
       "date-parts": [
        [
         2020,
         9
        ]
       ]
      },
      "page": "103326",
      "system_id": "zotero|13263233/AVP6VC5I",
      "title": "Simplified approach to the derivation of the relationship between Hill polarization tensors of transformed problems and applications",
      "type": "article-journal",
      "volume": "154"
     },
     "13263233/B3ADYJYB": {
      "DOI": "10.1007/BF00370053",
      "URL": "http://link.springer.com/10.1007/BF00370053",
      "author": [
       {
        "family": "Gavazzi",
        "given": "A C"
       },
       {
        "family": "Lagoudas",
        "given": "D C"
       }
      ],
      "container-title": "Computational Mechanics",
      "id": "13263233/B3ADYJYB",
      "issue": "1",
      "issued": {
       "date-parts": [
        [
         1990
        ]
       ]
      },
      "page": "13–19",
      "system_id": "zotero|13263233/B3ADYJYB",
      "title": "On the numerical evaluation of Eshelby's tensor and its application to elastoplastic fibrous composites",
      "type": "article-journal",
      "volume": "7"
     },
     "13263233/LK8LHU92": {
      "DOI": "10.1061/(ASCE)0733-9399(2002)128:8(808)",
      "URL": "https://ascelibrary.org/doi/10.1061/%28ASCE%290733-9399%282002%29128%3A8%28808%29",
      "abstract": "The foundations of classical homogenization techniques, which aim at predicting the overall behavior of heterogeneous materials from that of their constituents, are reviewed. After introductory deﬁnitions and a methodological preamble, attention is focused on linear elasticity, for which the basic principles of estimating and bounding the overall properties are introduced and illustrated. In this context, special recourse is made for that to the solution of the inclusion and inhomogeneity problems as reported by Eshelby in 1957. Approaches proposed recently to account in a better way for the structural morphology of the considered materials are brieﬂy mentioned. The case of linear elasticity with eigenstrains is then discussed: several applications, including heterogeneous thermoelasticity, can be investigated within this framework. Finally, outlines of nonlinear micromechanics are brieﬂy reported from a historical point of view: from rate-independent elastoplasticity to nonlinear elasticity and viscoplasticity, examples of a fruitful interaction between the search for new estimates and the derivation of rigorous bounds are given and the crucial question of the description of intraphase heterogeneity is emphasized. Viscoelastic coupling and rate-dependent effects are brieﬂy discussed in conclusion.",
      "accessed": {
       "date-parts": [
        [
         2022,
         10,
         7
        ]
       ]
      },
      "author": [
       {
        "family": "Zaoui",
        "given": "André"
       }
      ],
      "container-title": "Journal of Engineering Mechanics",
      "id": "13263233/LK8LHU92",
      "issue": "8",
      "issued": {
       "date-parts": [
        [
         2002
        ]
       ]
      },
      "journalAbbreviation": "J. Eng. Mech.",
      "language": "en",
      "page": "808-816",
      "shortTitle": "Continuum Micromechanics",
      "system_id": "zotero|13263233/LK8LHU92",
      "title": "Continuum Micromechanics: Survey",
      "type": "article-journal",
      "volume": "128"
     },
     "13263233/PER98KVR": {
      "URL": "https://www.cambridge.org/core/books/theory-of-composites/DDFAE9A8E827C0F6178FC2DDE8877AD7",
      "abstract": "Some of the greatest scientists including Poisson, Faraday, Maxwell, Rayleigh, and Einstein have contributed to the theory of composite materials. Mathematically, it is the study of partial differential equations with rapid oscillations in their coefficients. Although extensively studied for more than a hundred years, an explosion of ideas in the last five decades (and particularly in the last three decades) has dramatically increased our understanding of the relationship between the properties of the constituent materials, the underlying microstructure of a composite, and the overall effective (electrical, thermal, elastic) moduli which govern the macroscopic behavior. This renaissance has been fueled by the technological need for improving our knowledge  base of composites, by the advance of the underlying mathematical theory of homogenization, by the discovery of new variational principles, by the recognition of how important the subject is to solving structural optimization problems, and by the realization of the connection with the mathematical problem of quasiconvexification. This 2002 book surveys these exciting developments at the frontier of mathematics.",
      "accessed": {
       "date-parts": [
        [
         2022,
         10,
         8
        ]
       ]
      },
      "author": [
       {
        "family": "Milton",
        "given": "Graeme W."
       }
      ],
      "collection-title": "Cambridge Monographs on Applied and Computational Mathematics",
      "event-place": "Cambridge",
      "id": "13263233/PER98KVR",
      "issued": {
       "date-parts": [
        [
         2002
        ]
       ]
      },
      "note": "DOI: 10.1017/CBO9780511613357\ntex.ids= milton, milton2001",
      "publisher": "Cambridge University Press",
      "publisher-place": "Cambridge",
      "system_id": "zotero|13263233/PER98KVR",
      "title": "The Theory of Composites",
      "type": "book"
     },
     "13263233/TZIGKQZK": {
      "author": [
       {
        "family": "Mura",
        "given": "Toshio"
       }
      ],
      "id": "13263233/TZIGKQZK",
      "issued": {
       "date-parts": [
        [
         1987
        ]
       ]
      },
      "note": "DOI: 10.1002/zamm.19890690204",
      "publisher": "Kluwer Academic",
      "system_id": "zotero|13263233/TZIGKQZK",
      "title": "Micromechanics of Defects in Solids, Second Edition",
      "type": "book"
     },
     "13263233/UBQHT3SL": {
      "ISBN": "978-1-4757-6357-7",
      "URL": "https://link.springer.com/book/10.1007/978-1-4757-6355-3",
      "author": [
       {
        "family": "Torquato",
        "given": "Salvatore"
       }
      ],
      "collection-title": "Interdisciplinary Applied Mathematics",
      "event-place": "New York, NY",
      "id": "13263233/UBQHT3SL",
      "issued": {
       "date-parts": [
        [
         2002
        ]
       ]
      },
      "note": "DOI: 10.1007/978-1-4757-6355-3",
      "publisher": "Springer New York",
      "publisher-place": "New York, NY",
      "system_id": "zotero|13263233/UBQHT3SL",
      "title": "Random Heterogeneous Materials",
      "type": "book",
      "volume": "16"
     }
    }
   },
   "style": "elsevier-harvard2.csl"
  },
  "kernelspec": {
   "display_name": "Python 3.9.13 ('base')",
   "language": "python",
   "name": "python3"
  },
  "language_info": {
   "codemirror_mode": {
    "name": "ipython",
    "version": 3
   },
   "file_extension": ".py",
   "mimetype": "text/x-python",
   "name": "python",
   "nbconvert_exporter": "python",
   "pygments_lexer": "ipython3",
   "version": "3.9.13"
  },
  "vscode": {
   "interpreter": {
    "hash": "52634da84371cba311ea128a5ea7cdc41ff074b781779e754b270ff9f8153cee"
   }
  }
 },
 "nbformat": 4,
 "nbformat_minor": 5
}
